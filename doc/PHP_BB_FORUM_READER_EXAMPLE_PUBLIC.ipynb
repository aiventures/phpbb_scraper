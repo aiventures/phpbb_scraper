{
 "cells": [
  {
   "cell_type": "markdown",
   "metadata": {},
   "source": [
    "# PHPBB Scraping Data API - Sample Use\n",
    "## Configuration\n",
    "Here's a possible use for the phpbb Scraper API, that will read latest topics from a forum. Setup to access the forum is done in a config.json, that has the following content:\n",
    "```\n",
    "{\n",
    "    \"user\": \"<user>\",\n",
    "    \"password\": \"<password>\",\n",
    "    \"base\":\"https://<forum url>\",\n",
    "    \"target_dir\":\"<target dir where to save / read html files\",\n",
    "    \"meta_file\":\"<targetFileWhereToAppendHtmlMetaData>\"    \n",
    "}\n",
    "    mind the double backslash and encoding:\n",
    "    eg meta_file = \"C:\\\\Users\\\\JohnDoe\\\\Desktop\\\\TEST\\\\metafile.json\"\n",
    "```\n",
    "The ScraperExecutor encapsulates generation of URL, log in, reading and processing of scraped forum pages\n",
    " "
   ]
  },
  {
   "cell_type": "markdown",
   "metadata": {},
   "source": [
    "## Code is Documented :-)"
   ]
  },
  {
   "cell_type": "code",
   "execution_count": 2,
   "metadata": {},
   "outputs": [
    {
     "name": "stdout",
     "output_type": "stream",
     "text": [
      "Help on class ScraperExecutor in module phpbb_scraper.scraper:\n",
      "\n",
      "class ScraperExecutor(builtins.object)\n",
      " |  Implementation of some frequently used scraping queries\n",
      " |  \n",
      " |  Class methods defined here:\n",
      " |  \n",
      " |  __init__(base=None, debug=False, wait_time=5, user=None, password=None, config_file=None, target_dir=None, meta_file=None) from builtins.type\n",
      " |      constructor\n",
      " |  \n",
      " |  close_session() from builtins.type\n",
      " |      close session\n",
      " |  \n",
      " |  get_session() from builtins.type\n",
      " |      gets/creates class session\n",
      " |  \n",
      " |  get_soup(url) from builtins.type\n",
      " |      retrieves soup for given url, configuration needed to be setup\n",
      " |      if url is a list, a list of soup will be returned\n",
      " |  \n",
      " |  get_soups(urls) from builtins.type\n",
      " |      reads multiple urls in case soup contains number of entries tags and a \"start\" property, \n",
      " |      url will not be read. returns a list of dictionary with entry \n",
      " |      {hash(soup_id):{'url':<url>,'url_hash':<url_hash>,'soup':<soup>,'soup_id':<soup_id>,'date':<date>}} \n",
      " |      soup_id is concatenation of Date and url hash <JJJJMMDD_HHMMSS>_<url_hash>\n",
      " |  \n",
      " |  read_topics_from_meta(meta_file=None, target_dir=None) from builtins.type\n",
      " |      reads all soup files referenced in meta file and trasnforms soups in list of metadata attributes, alongside with data from file\n",
      " |      attributes from post gets the prefix 'post' , file metadata gets the prefix 'source'. Usually, target_dir (source of soup files)\n",
      " |      and meta_file (file containing metainformation of soup files) is set upon instanciation of this class, but can be overwritten\n",
      " |      by the parameters\n",
      " |  \n",
      " |  retrieve_last_topics(past_days=14, start_num=0, steps_num=2, increment_num=70, file_extension='html', target_dir=None, meta_file=None) from builtins.type\n",
      " |      gets the last topics from forum (across multiple pages) and saves each to an html\n",
      " |      file locally. \n",
      " |      Parameters (default)\n",
      " |      past_days (14) - retrieve topics from last past_days\n",
      " |      start_num (0) / steps (3) start index of post, number of subsequent pages to be scraped\n",
      " |      increment_num (70) increase number of post index between pages, for default values we will\n",
      " |      be reading posts on three pages (0...69),(70...139),(140...209) \n",
      " |      file_extension (\"html\")\n",
      " |      target_dir (save path) directory to save (can also be configured in config file)\n",
      " |      returns list of metadata dictionary of each soup\n",
      " |  \n",
      " |  save_topics_as_html_table(html_file=None, path=None, append_timestamp=True) from builtins.type\n",
      " |      reads topics from loval html files and transforms posts into an html table \n",
      " |      for given path and file name. If append_timestamp is set to true, a timestamp will be added to\n",
      " |      the filename\n",
      " |  \n",
      " |  set_config_from_file(config_file) from builtins.type\n",
      " |      sets configuration from json file, having the following content:\n",
      " |      {\n",
      " |          \"user\": <user>,\n",
      " |          \"password\": <password>,\n",
      " |          \"base\":<url base of phpbb forum>\n",
      " |          \"target_dir\":<save directory>\n",
      " |          \"meta_dir\":<directory containing list of soup files>\n",
      " |      }\n",
      " |  \n",
      " |  ----------------------------------------------------------------------\n",
      " |  Data descriptors defined here:\n",
      " |  \n",
      " |  __dict__\n",
      " |      dictionary for instance variables (if defined)\n",
      " |  \n",
      " |  __weakref__\n",
      " |      list of weak references to the object (if defined)\n",
      " |  \n",
      " |  ----------------------------------------------------------------------\n",
      " |  Data and other attributes defined here:\n",
      " |  \n",
      " |  DEBUG = False\n",
      " |  \n",
      " |  QUERIES = None\n",
      " |  \n",
      " |  base_url = 'https://<base_url>'\n",
      " |  \n",
      " |  meta_file = None\n",
      " |  \n",
      " |  password = '<password>'\n",
      " |  \n",
      " |  target_dir = None\n",
      " |  \n",
      " |  user = '<user>'\n",
      " |  \n",
      " |  wait_time = 5\n",
      "\n"
     ]
    }
   ],
   "source": [
    "import phpbb_scraper\n",
    "from phpbb_scraper.scraper import ScraperExecutor\n",
    "# code is documented, use help(<module>) to find out more about implemented code\n",
    "# for inner structure, use dir(module)\n",
    "help(ScraperExecutor)"
   ]
  },
  {
   "cell_type": "markdown",
   "metadata": {},
   "source": [
    "## Sample Scrape\n",
    "The following sample shows application of the ScraperExecutor class that reads latest topics and saves them as HTML files and updates the meta file (list of files downloaded)"
   ]
  },
  {
   "cell_type": "code",
   "execution_count": null,
   "metadata": {},
   "outputs": [],
   "source": [
    "from phpbb_scraper.scraper import ScraperExecutor\n",
    "\n",
    "# config file  path\n",
    "config_file = r\"C:\\<path>\\config.json\"\n",
    "\n",
    "debug = False   # run in debug mode\n",
    "steps_num = 2  # num of max web pages to be scraped\n",
    "\n",
    "# set configuration and instanciate web scraper\n",
    "executor = ScraperExecutor(config_file=config_file,debug=debug)\n",
    "# scrapes data from forum , saves them to files and returns metadata of each scraped page\n",
    "metadata = executor.retrieve_last_topics(steps_num=steps_num)\n"
   ]
  },
  {
   "cell_type": "markdown",
   "metadata": {},
   "source": [
    "Display Of meta data for scraping of each Page: To make it unique, each scraped page (and forum posts later on, as well) gets hash ids alongside with file name so as to make it ready for analysis in subsequent steps "
   ]
  },
  {
   "cell_type": "code",
   "execution_count": null,
   "metadata": {
    "scrolled": true
   },
   "outputs": [],
   "source": [
    "# in case everything went fine, you can see the file metadata here (=what is appended to the metadata file)\n",
    "metadata"
   ]
  },
  {
   "cell_type": "markdown",
   "metadata": {},
   "source": [
    "## Reading Of Scraped Data\n",
    "Read of scraped html data can be done with the read_topics_from_meta() function: It reads the metafile, accesses the referenced files there, and imports each post as dictionary."
   ]
  },
  {
   "cell_type": "code",
   "execution_count": null,
   "metadata": {
    "scrolled": true
   },
   "outputs": [],
   "source": [
    "from phpbb_scraper.scraper import ScraperExecutor\n",
    "\n",
    "# read the urls from metafile and get post data as dictionary from stored html files\n",
    "\n",
    "config_file = r\"C:\\<path>\\config.json\"\n",
    "\n",
    "# read the urls from metafile and get metadata from stored html files\n",
    "debug = False   # run in debug mode\n",
    "\n",
    "# set configuration\n",
    "executor = ScraperExecutor(config_file=config_file,debug=debug)\n",
    "\n",
    "# read metafile and access locally stored html files\n",
    "topics = executor.read_topics_from_meta() #dictionary containing topics metadata\n",
    "print(f\"Number of topics {len(topics)}, type of topics: {type(topics)}\")\n",
    "print(f\"Metadata Keys per Post: {list(topics[list(topics.keys())[0]].keys())}\")"
   ]
  },
  {
   "cell_type": "markdown",
   "metadata": {},
   "source": [
    "Having transformed posts into dictionary, everything is set for further analysis :-)"
   ]
  },
  {
   "cell_type": "markdown",
   "metadata": {},
   "source": [
    "## Scraped Data as HTML Table\n",
    "ScraperExecutor method save_topics_as_html_table will read scraped data and is transforming them into tabular HTML data"
   ]
  },
  {
   "cell_type": "code",
   "execution_count": null,
   "metadata": {},
   "outputs": [],
   "source": [
    "from phpbb_scraper.scraper import ScraperExecutor\n",
    "\n",
    "config_file = r\"C:\\<path>\\config.json\"\n",
    "\n",
    "# read the urls from metafile and get metadata from stored html files\n",
    "debug = False   # run in debug mode\n",
    "\n",
    "# set configuration\n",
    "executor = ScraperExecutor(config_file=config_file,debug=debug)\n",
    "\n",
    "# html file name and path\n",
    "html_file = r\"posts_as_html_table\"\n",
    "path = r\"C:\\<path>\\TEST\"\n",
    "add_timestamp = False\n",
    "\n",
    "# create html table from dictionary and save file locally\n",
    "executor.save_topics_as_html_table(html_file=html_file,path=path,append_timestamp=add_timestamp)\n",
    "\n",
    "\n"
   ]
  }
 ],
 "metadata": {
  "kernelspec": {
   "display_name": "Python [conda env:MiniConda3]",
   "language": "python",
   "name": "conda-env-MiniConda3-py"
  },
  "language_info": {
   "codemirror_mode": {
    "name": "ipython",
    "version": 3
   },
   "file_extension": ".py",
   "mimetype": "text/x-python",
   "name": "python",
   "nbconvert_exporter": "python",
   "pygments_lexer": "ipython3",
   "version": "3.6.6"
  }
 },
 "nbformat": 4,
 "nbformat_minor": 2
}
